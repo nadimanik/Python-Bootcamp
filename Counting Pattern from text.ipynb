{
 "cells": [
  {
   "cell_type": "markdown",
   "metadata": {},
   "source": [
    "## Counting Pattern"
   ]
  },
  {
   "cell_type": "code",
   "execution_count": 1,
   "metadata": {},
   "outputs": [],
   "source": [
    "counts = dict()"
   ]
  },
  {
   "cell_type": "code",
   "execution_count": 2,
   "metadata": {},
   "outputs": [
    {
     "name": "stdout",
     "output_type": "stream",
     "text": [
      "Enter a text:\n",
      "machine learning today is not like machine learning of the past. It was born from pattern recognition and the theory that computers can learn without being programmed to perform specific tasks.\n"
     ]
    }
   ],
   "source": [
    "print(\"Enter a text:\")\n",
    "line = input('')"
   ]
  },
  {
   "cell_type": "code",
   "execution_count": 3,
   "metadata": {},
   "outputs": [],
   "source": [
    "words = line.split()"
   ]
  },
  {
   "cell_type": "code",
   "execution_count": 4,
   "metadata": {},
   "outputs": [
    {
     "name": "stdout",
     "output_type": "stream",
     "text": [
      "Words are: ['machine', 'learning', 'today', 'is', 'not', 'like', 'machine', 'learning', 'of', 'the', 'past.', 'It', 'was', 'born', 'from', 'pattern', 'recognition', 'and', 'the', 'theory', 'that', 'computers', 'can', 'learn', 'without', 'being', 'programmed', 'to', 'perform', 'specific', 'tasks.']\n"
     ]
    }
   ],
   "source": [
    "print('Words are:', words)"
   ]
  },
  {
   "cell_type": "code",
   "execution_count": 5,
   "metadata": {},
   "outputs": [
    {
     "name": "stdout",
     "output_type": "stream",
     "text": [
      "Counts {'machine': 2, 'learning': 2, 'today': 1, 'is': 1, 'not': 1, 'like': 1, 'of': 1, 'the': 2, 'past.': 1, 'It': 1, 'was': 1, 'born': 1, 'from': 1, 'pattern': 1, 'recognition': 1, 'and': 1, 'theory': 1, 'that': 1, 'computers': 1, 'can': 1, 'learn': 1, 'without': 1, 'being': 1, 'programmed': 1, 'to': 1, 'perform': 1, 'specific': 1, 'tasks.': 1}\n"
     ]
    }
   ],
   "source": [
    "for word in words:\n",
    "    counts[word] = counts.get(word,0) + 1\n",
    "print('Counts', counts)"
   ]
  },
  {
   "cell_type": "code",
   "execution_count": null,
   "metadata": {},
   "outputs": [],
   "source": []
  }
 ],
 "metadata": {
  "kernelspec": {
   "display_name": "Python 3",
   "language": "python",
   "name": "python3"
  },
  "language_info": {
   "codemirror_mode": {
    "name": "ipython",
    "version": 3
   },
   "file_extension": ".py",
   "mimetype": "text/x-python",
   "name": "python",
   "nbconvert_exporter": "python",
   "pygments_lexer": "ipython3",
   "version": "3.7.0"
  }
 },
 "nbformat": 4,
 "nbformat_minor": 2
}
