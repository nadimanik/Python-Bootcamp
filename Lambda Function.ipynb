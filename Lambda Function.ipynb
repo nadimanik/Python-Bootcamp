{
 "cells": [
  {
   "cell_type": "markdown",
   "metadata": {},
   "source": [
    "# Anonymous / Lambda Function"
   ]
  },
  {
   "cell_type": "markdown",
   "metadata": {},
   "source": [
    "* Lambda fuction is a function that is defined without a name.\n",
    "\n",
    "* A lambda function is a small anonymous function.\n",
    "\n",
    "* While normal functions are defined using the def keyword, in pyhon anonymous functions are defined using lambda keyword.\n",
    "\n",
    "* A lambda function can take any number of arguments, but can only have one expression.\n",
    "\n",
    "* Lambda functions are widely used extensively along with buit-in function like filter(), map()."
   ]
  },
  {
   "cell_type": "markdown",
   "metadata": {},
   "source": [
    "<h4>Syntax:    \n",
    "    \n",
    "    lambda arguments: expression"
   ]
  },
  {
   "cell_type": "code",
   "execution_count": 12,
   "metadata": {},
   "outputs": [
    {
     "name": "stdout",
     "output_type": "stream",
     "text": [
      "10\n"
     ]
    }
   ],
   "source": [
    "#using lambda function\n",
    "\n",
    "double = lambda x: x*2\n",
    "\n",
    "print(double(5))"
   ]
  },
  {
   "cell_type": "code",
   "execution_count": 13,
   "metadata": {},
   "outputs": [
    {
     "name": "stdout",
     "output_type": "stream",
     "text": [
      "10\n"
     ]
    }
   ],
   "source": [
    "# same thing with a normal function\n",
    "\n",
    "def double(x):\n",
    "    return x * 2\n",
    "\n",
    "print(double(5))"
   ]
  },
  {
   "cell_type": "code",
   "execution_count": 14,
   "metadata": {},
   "outputs": [
    {
     "name": "stdout",
     "output_type": "stream",
     "text": [
      "[2, 4]\n"
     ]
    }
   ],
   "source": [
    "# Example use with filter()\n",
    "\n",
    "lst = [1, 2, 3, 4, 5]\n",
    "\n",
    "even_lst = list(filter(lambda x: x % 2 == 0 , lst))\n",
    "\n",
    "print(even_lst)"
   ]
  },
  {
   "cell_type": "code",
   "execution_count": 15,
   "metadata": {},
   "outputs": [
    {
     "name": "stdout",
     "output_type": "stream",
     "text": [
      "[1, 4, 9, 16, 25]\n"
     ]
    }
   ],
   "source": [
    "# Example use with map()\n",
    "\n",
    "lst = [1, 2, 3, 4, 5]\n",
    "\n",
    "new_list = list(map(lambda x: x**2, lst))\n",
    "\n",
    "print(new_list)"
   ]
  },
  {
   "cell_type": "code",
   "execution_count": 19,
   "metadata": {},
   "outputs": [
    {
     "name": "stdout",
     "output_type": "stream",
     "text": [
      "120\n"
     ]
    }
   ],
   "source": [
    "# Example use with reduce()\n",
    "\n",
    "from functools import reduce\n",
    "\n",
    "lst = [1, 2, 3, 4, 5]\n",
    "\n",
    "product_lst = reduce(lambda x, y: x*y, lst)\n",
    "\n",
    "print(product_lst)"
   ]
  }
 ],
 "metadata": {
  "kernelspec": {
   "display_name": "Python 3",
   "language": "python",
   "name": "python3"
  },
  "language_info": {
   "codemirror_mode": {
    "name": "ipython",
    "version": 3
   },
   "file_extension": ".py",
   "mimetype": "text/x-python",
   "name": "python",
   "nbconvert_exporter": "python",
   "pygments_lexer": "ipython3",
   "version": "3.7.1"
  }
 },
 "nbformat": 4,
 "nbformat_minor": 2
}
